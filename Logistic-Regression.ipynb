{
 "cells": [
  {
   "cell_type": "markdown",
   "metadata": {},
   "source": [
    "LOGISTIC REGRESSION:\n",
    "\n",
    "- > Entropy : \n",
    "\n",
    "1) Quantifies similarities and differences - randomness/dissimilarities\n",
    "2) Suprise is inversely proportional to log ( prob )\n",
    "3) Log base is decided by no. of classes\n",
    "\n",
    "Formula : Sum( x * P(X=x) ) = Sum( -p(x) * log(p(x)))\n",
    "\n",
    "    - x -> Specific value of suprise ; P(X=x) -> Specific prob value of the class\n",
    "\n",
    "- > Cross Entropy :\n",
    "\n",
    "1) Same as entropy but it takes in the account of both true distribution and predicted distribution\n",
    "\n",
    "Formula : Sum( -p(x) * log(q(x)))\n",
    "\n",
    "- Link for the above topics : https://youtu.be/ErfnhcEV1O8\n",
    "\n",
    "- > Sigmoid Function :\n",
    "\n",
    "Formula : s(x) = 1/(1 + e−x)\n",
    "\n",
    "- > Mutual Information :\n",
    "\n",
    "1) Defines how the change in one column can affect output column - when MI = 0 , there is no info for output based on the column & when MI = 1 , there is high info for output based on the column\n",
    "\n",
    "Formula : Sum-x , Sum-y ( p(x,y) * n-log( p(x,y)/(p(x)*p(y)) ) )\n",
    "\n",
    "Mutual Information and Entropy are interrelated - Inversely proportional \n",
    "\n",
    "- > ODDS :\n",
    "\n",
    "win = 3 ; lose = 5\n",
    "\n",
    "odds of winning = 3/5 ; odds of losing = 5/3\n",
    "\n",
    "odds & prob are different \n",
    "\n",
    "The values above 0.5 in y axis is 0 to +inf & below 0.5 is 0 to -inf\n",
    "\n",
    "- > Logit Function :\n",
    "\n",
    "1) The distribution of odds are asymettric , so we take of log of odds . It is called as Logit Function (symmetric)\n",
    "2) The ratio of probs is odds \n",
    "\n",
    "Formula : log( p(x) / 1 - p(x) )\n",
    "\n",
    "- > Maximum Likelihood Estimator :\n",
    "\n",
    "1) We must convert the odds of value from the y axis into probs\n",
    "    - Formula : p = (e log (odds)) / ( 1 + (e log (odds)) )\n",
    "2) MSE = log(p1) * log(p2) * etc....\n",
    "\n",
    "This MLE is used to correct the squish line (s) \n",
    "\n",
    "- > Chi Square Test :\n",
    "\n",
    "1) The chi-squared test is a valuable tool in logistic regression for feature selection, model assessment, and checking assumptions related to variable independence\n",
    "2) It helps ensure that the chosen predictors have a meaningful relationship with the outcome variable and that the model fits the data adequately\n",
    "\n",
    "Formula : x^2 =  Σ [(O_ij - E_ij)² / E_ij]\n"
   ]
  },
  {
   "cell_type": "markdown",
   "metadata": {},
   "source": [
    "    CODING :"
   ]
  },
  {
   "cell_type": "code",
   "execution_count": 23,
   "metadata": {},
   "outputs": [],
   "source": [
    "import numpy as np\n",
    "import pandas as pd \n",
    "from sklearn.datasets import load_iris\n",
    "from sklearn.linear_model import LogisticRegression\n",
    "from sklearn.model_selection import train_test_split\n",
    "import warnings\n",
    "warnings.filterwarnings(\"ignore\")"
   ]
  },
  {
   "cell_type": "code",
   "execution_count": 6,
   "metadata": {},
   "outputs": [],
   "source": [
    "data = load_iris()\n",
    "df = pd.DataFrame(data.data , columns= data.feature_names)\n",
    "df['target'] = data.target"
   ]
  },
  {
   "cell_type": "code",
   "execution_count": 10,
   "metadata": {},
   "outputs": [
    {
     "data": {
      "text/html": [
       "<div>\n",
       "<style scoped>\n",
       "    .dataframe tbody tr th:only-of-type {\n",
       "        vertical-align: middle;\n",
       "    }\n",
       "\n",
       "    .dataframe tbody tr th {\n",
       "        vertical-align: top;\n",
       "    }\n",
       "\n",
       "    .dataframe thead th {\n",
       "        text-align: right;\n",
       "    }\n",
       "</style>\n",
       "<table border=\"1\" class=\"dataframe\">\n",
       "  <thead>\n",
       "    <tr style=\"text-align: right;\">\n",
       "      <th></th>\n",
       "      <th>sepal length (cm)</th>\n",
       "      <th>sepal width (cm)</th>\n",
       "      <th>petal length (cm)</th>\n",
       "      <th>petal width (cm)</th>\n",
       "      <th>target</th>\n",
       "    </tr>\n",
       "  </thead>\n",
       "  <tbody>\n",
       "    <tr>\n",
       "      <th>0</th>\n",
       "      <td>5.1</td>\n",
       "      <td>3.5</td>\n",
       "      <td>1.4</td>\n",
       "      <td>0.2</td>\n",
       "      <td>0</td>\n",
       "    </tr>\n",
       "    <tr>\n",
       "      <th>1</th>\n",
       "      <td>4.9</td>\n",
       "      <td>3.0</td>\n",
       "      <td>1.4</td>\n",
       "      <td>0.2</td>\n",
       "      <td>0</td>\n",
       "    </tr>\n",
       "    <tr>\n",
       "      <th>2</th>\n",
       "      <td>4.7</td>\n",
       "      <td>3.2</td>\n",
       "      <td>1.3</td>\n",
       "      <td>0.2</td>\n",
       "      <td>0</td>\n",
       "    </tr>\n",
       "    <tr>\n",
       "      <th>3</th>\n",
       "      <td>4.6</td>\n",
       "      <td>3.1</td>\n",
       "      <td>1.5</td>\n",
       "      <td>0.2</td>\n",
       "      <td>0</td>\n",
       "    </tr>\n",
       "    <tr>\n",
       "      <th>4</th>\n",
       "      <td>5.0</td>\n",
       "      <td>3.6</td>\n",
       "      <td>1.4</td>\n",
       "      <td>0.2</td>\n",
       "      <td>0</td>\n",
       "    </tr>\n",
       "  </tbody>\n",
       "</table>\n",
       "</div>"
      ],
      "text/plain": [
       "   sepal length (cm)  sepal width (cm)  petal length (cm)  petal width (cm)  \\\n",
       "0                5.1               3.5                1.4               0.2   \n",
       "1                4.9               3.0                1.4               0.2   \n",
       "2                4.7               3.2                1.3               0.2   \n",
       "3                4.6               3.1                1.5               0.2   \n",
       "4                5.0               3.6                1.4               0.2   \n",
       "\n",
       "   target  \n",
       "0       0  \n",
       "1       0  \n",
       "2       0  \n",
       "3       0  \n",
       "4       0  "
      ]
     },
     "execution_count": 10,
     "metadata": {},
     "output_type": "execute_result"
    }
   ],
   "source": [
    "df.head()"
   ]
  },
  {
   "cell_type": "code",
   "execution_count": 13,
   "metadata": {},
   "outputs": [
    {
     "data": {
      "text/plain": [
       "sepal length (cm)    0\n",
       "sepal width (cm)     0\n",
       "petal length (cm)    0\n",
       "petal width (cm)     0\n",
       "target               0\n",
       "dtype: int64"
      ]
     },
     "execution_count": 13,
     "metadata": {},
     "output_type": "execute_result"
    }
   ],
   "source": [
    "df.isnull().sum()"
   ]
  },
  {
   "cell_type": "code",
   "execution_count": 16,
   "metadata": {},
   "outputs": [],
   "source": [
    "x = df.drop('target',axis=1)\n",
    "y = df['target']"
   ]
  },
  {
   "cell_type": "code",
   "execution_count": 17,
   "metadata": {},
   "outputs": [],
   "source": [
    "x_train , x_test , y_train , y_test = train_test_split( x , y , test_size = 0.2 , random_state = 1 )"
   ]
  },
  {
   "cell_type": "code",
   "execution_count": 27,
   "metadata": {},
   "outputs": [],
   "source": [
    "model = LogisticRegression()\n",
    "model.fit(x_train,y_train)\n",
    "y_hat = model.predict(x_test)"
   ]
  },
  {
   "cell_type": "code",
   "execution_count": 28,
   "metadata": {},
   "outputs": [
    {
     "name": "stdout",
     "output_type": "stream",
     "text": [
      "0.9666666666666667\n"
     ]
    }
   ],
   "source": [
    "from sklearn.metrics import accuracy_score\n",
    "print(accuracy_score(y_test,y_hat))"
   ]
  },
  {
   "cell_type": "markdown",
   "metadata": {},
   "source": [
    "- CHATGPT LINK : https://chat.openai.com/share/01c8fea2-cddf-44bd-b8dc-342267bedbed"
   ]
  },
  {
   "cell_type": "markdown",
   "metadata": {},
   "source": []
  }
 ],
 "metadata": {
  "kernelspec": {
   "display_name": "myenv",
   "language": "python",
   "name": "python3"
  },
  "language_info": {
   "codemirror_mode": {
    "name": "ipython",
    "version": 3
   },
   "file_extension": ".py",
   "mimetype": "text/x-python",
   "name": "python",
   "nbconvert_exporter": "python",
   "pygments_lexer": "ipython3",
   "version": "3.11.3"
  },
  "orig_nbformat": 4
 },
 "nbformat": 4,
 "nbformat_minor": 2
}
