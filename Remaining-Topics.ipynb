{
 "cells": [
  {
   "cell_type": "markdown",
   "metadata": {},
   "source": [
    "- > ANOVA\n",
    "- > Covariance\n",
    "- > Polynomial Feature Extraction\n",
    "- > Dimensionality Reduction"
   ]
  },
  {
   "cell_type": "markdown",
   "metadata": {},
   "source": [
    "1) ANOVA\n",
    "\n",
    "ANOVA can be used as a feature selection method to identify the most relevant features or variables that contribute significantly to the prediction task"
   ]
  },
  {
   "cell_type": "code",
   "execution_count": null,
   "metadata": {},
   "outputs": [],
   "source": []
  }
 ],
 "metadata": {
  "language_info": {
   "name": "python"
  },
  "orig_nbformat": 4
 },
 "nbformat": 4,
 "nbformat_minor": 2
}
